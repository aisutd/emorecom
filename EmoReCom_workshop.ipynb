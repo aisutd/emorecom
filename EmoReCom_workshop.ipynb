{
  "nbformat": 4,
  "nbformat_minor": 0,
  "metadata": {
    "colab": {
      "name": "EmoReCom",
      "provenance": [],
      "collapsed_sections": []
    },
    "kernelspec": {
      "name": "python3",
      "display_name": "Python 3"
    }
  },
  "cells": [
    {
      "cell_type": "code",
      "metadata": {
        "id": "kVrzsJfn_Xsm"
      },
      "source": [
        "# emorecom"
      ],
      "execution_count": null,
      "outputs": []
    }
  ]
}